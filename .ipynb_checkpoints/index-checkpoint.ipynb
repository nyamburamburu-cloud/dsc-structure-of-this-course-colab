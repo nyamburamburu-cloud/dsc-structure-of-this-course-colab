{
 "cells": [
  {
   "cell_type": "markdown",
   "metadata": {},
   "source": [
    "# The Structure of this Course\n",
    "\n",
    "## Introduction\n",
    "\n",
    "In this lesson you will learn about how this course is structured in Canvas. Additionally, you will be introduced to Jupyter Notebooks and what they are for the very first time.\n",
    "\n",
    "## Objectives\n",
    "You will be able to:\n",
    "\n",
    "* Understand the difference between a Canvas Assignment and Page\n",
    "* Understand how Pages host Lessons and Assignments host Code Lessons and Labs\n",
    "* Get introduced to Jupyter Notebooks"
   ]
  },
  {
   "cell_type": "markdown",
   "metadata": {},
   "source": [
    "## Setting the Stage\n",
    "\n",
    "There are two main types of materials in this course: **Pages** and **Assignments**.\n",
    "\n",
    "You can recognize a **Page** by the following icon:\n",
    "\n",
    "<img src=\"https://curriculum-content.s3.amazonaws.com/data-science/images/page.png/page.png\" width=70>\n",
    "\n",
    "And an **Assignment** by the following icon:\n",
    "\n",
    "<img src=\"https://curriculum-content.s3.amazonaws.com/data-science/images/assignment.png/assignment.png\" width=70>\n",
    "\n",
    "**Pages** contain _Lessons_, and these lessons are mainly about giving you tons of information to absorb. In these lessons you'll be reading text and sometimes watching videos (note that what you're reading now is a Page). There is really not much more about it, all you need to do is to read them in Canvas. Enjoy.\n",
    "\n",
    "Often, you'll be required to write code. This is where **Assignments** come in. Assignments come in two forms:\n",
    "\n",
    "- _Code Lessons_: Code Lessons require you to be able to run code, but you will not be instructed to write code yourself. Code Lessons are very much like Lessons, but there is an interactive component to it as you'll be running some code that was provided for you.\n",
    "- _Labs_: Labs ask you to write code yourself. We provide example solutions for each lab to help you if you get stuck.\n",
    "\n",
    "You can easily tell if an assignment is a _Code Lesson_ or a _Lab_ from the title and the organization. If the title ends with \"Lab\", it's a lab. Additionally, Labs are indented. In the image below, you see a Code Lesson followed by a Lab.\n",
    "\n",
    "<img src=\"https://curriculum-content.s3.amazonaws.com/data-science/images/labs.png/labs.png\" width=500>\n",
    "\n",
    "Note that there is a third type of content that hasn't been discussed: a **Quiz**. Quizzes are less prevalent than Assignments or Pages, but they're important, as they contain questions for you to answer to reinforce your learning.\n",
    "\n",
    "The quiz icon looks like this:\n",
    "\n",
    "<img src=\"https://curriculum-content.s3.amazonaws.com/data-science/images/quiz.png/quiz.png\" width=70>"
   ]
  },
  {
   "cell_type": "markdown",
   "metadata": {},
   "source": [
    "## Assignments: Meet Google's Colab.\n",
    "\n",
    "With any assignment within Canvas that you open, you'll see something like this:\n",
    "\n",
    "<img src=\"https://curriculum-content.s3.amazonaws.com/data-science/images/OpenInColab.png/OpenInColab.png\" width=700 alt=\"Open in Colab\">\n",
    "\n",
    "In order to go to the assignment, you need to load the assignment in a new window by clicking on the **Open in Colab** icon. This will take you take you to Colab to work in a *Jupyter Notebook*, a document-like application that allows you to do live coding. In other words, Colab will automatically open the .ipynb file in a Jupyter Notebook.\n",
    "\n",
    "This is what a Jupyter Notebook looks like. \n",
    "\n",
    "<img src=\"https://curriculum-content.s3.amazonaws.com/data-science/images/YourFirstJupyterNotebook.png/YourFirstJupyterNotebook.png\" width=800 alt=\"Colab with a python notebook\">"
   ]
  },
  {
   "cell_type": "markdown",
   "metadata": {},
   "source": [
    "## Lab Solutions\n",
    "\n",
    "We provide solutions for each Lab to help you get unstuck when all else fails. Learning how to persevere and solve coding problems is one of the most important skills you will learn as a data scientist. That said, sometimes it's not worth your time or energy to keep trying to solve a problem, especially if the problem ends up being something minor like a typo. In general, if you're not making any progress with a Lab after 10-20 minutes then you should reach out to peers for help. If that doesn't get you unstuck, _then_ look at a solution. Read just enough of the solution to get unstuck, then continue on your own.\n",
    "\n",
    "**Be careful about when & how you use these.** You may be tempted to go look at the solution immediately when you don't know what to do or your code isn't working.  You won't always be able to look up a correct solution to problems you encounter during a technical interview or on the job, so don't let yourself fall into the habit.\n",
    "\n",
    "To access a Lab solution, click the GitHub \"octocat\" icon to go to the Lab's GitHub repository.\n",
    "\n",
    "<img src=\"https://curriculum-content.s3.amazonaws.com/data-science/images/StringsLabGH.png/StringsLabGH.png\" width=700 alt=\"Github octocat highlighted\">\n",
    "\n",
    "From the GitHub repository, click the branch dropdown to switch to the `solution` branch.\n",
    "\n",
    "<img src=\"https://curriculum-content.s3.amazonaws.com/data-science/images/github_branches.png/github_branches.png\" width=700>\n",
    "\n",
    "\n",
    "Great - enough _talking_, let's dive right into your first Jupyter Notebook in the next Assignment."
   ]
  },
  {
   "cell_type": "markdown",
   "metadata": {},
   "source": [
    "## Summary\n",
    "\n",
    "In this lesson, you learned about how Assignments and Pages are the two main building blocks of the Data Science Program in Canvas, hosting Lessons, Code Lessons and Labs. Next up, we'll explore our first Code Lesson in a Jupyter Notebook."
   ]
  }
 ],
 "metadata": {
  "kernelspec": {
   "display_name": "Python (learn-env)",
   "language": "python",
   "name": "learn-env"
  },
  "language_info": {
   "codemirror_mode": {
    "name": "ipython",
    "version": 3
   },
   "file_extension": ".py",
   "mimetype": "text/x-python",
   "name": "python",
   "nbconvert_exporter": "python",
   "pygments_lexer": "ipython3",
   "version": "3.8.5"
  }
 },
 "nbformat": 4,
 "nbformat_minor": 4
}
